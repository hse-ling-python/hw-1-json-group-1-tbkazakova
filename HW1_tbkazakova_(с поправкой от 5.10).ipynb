{
 "cells": [
  {
   "cell_type": "markdown",
   "metadata": {},
   "source": [
    "# Домашнее задание №1"
   ]
  },
  {
   "cell_type": "markdown",
   "metadata": {},
   "source": [
    "### Тани Казаковой"
   ]
  },
  {
   "cell_type": "markdown",
   "metadata": {},
   "source": [
    "### Устанавливаем проверку PEP-8."
   ]
  },
  {
   "cell_type": "code",
   "execution_count": 1,
   "metadata": {},
   "outputs": [
    {
     "name": "stdout",
     "output_type": "stream",
     "text": [
      "Requirement already satisfied: pycodestyle in ./anaconda3/lib/python3.7/site-packages (2.5.0)\r\n",
      "Requirement already satisfied: flake8 in ./anaconda3/lib/python3.7/site-packages (3.7.8)\r\n",
      "Requirement already satisfied: pycodestyle_magic in ./anaconda3/lib/python3.7/site-packages (0.4)\r\n",
      "Requirement already satisfied: entrypoints<0.4.0,>=0.3.0 in ./anaconda3/lib/python3.7/site-packages (from flake8) (0.3)\r\n",
      "Requirement already satisfied: pyflakes<2.2.0,>=2.1.0 in ./anaconda3/lib/python3.7/site-packages (from flake8) (2.1.1)\r\n",
      "Requirement already satisfied: mccabe<0.7.0,>=0.6.0 in ./anaconda3/lib/python3.7/site-packages (from flake8) (0.6.1)\r\n"
     ]
    }
   ],
   "source": [
    "! pip3 install pycodestyle flake8 pycodestyle_magic"
   ]
  },
  {
   "cell_type": "code",
   "execution_count": 2,
   "metadata": {},
   "outputs": [],
   "source": [
    "%load_ext pycodestyle_magic\n",
    "%pycodestyle_on"
   ]
  },
  {
   "cell_type": "markdown",
   "metadata": {},
   "source": [
    "### Ищем количество твитов"
   ]
  },
  {
   "cell_type": "code",
   "execution_count": 3,
   "metadata": {},
   "outputs": [
    {
     "name": "stdout",
     "output_type": "stream",
     "text": [
      "Кол-во твитов: 2556\n"
     ]
    }
   ],
   "source": [
    "import json\n",
    "twitter = []\n",
    "for line in open('hw_3_twitter.json'):\n",
    "    twitter.append(json.loads(line))\n",
    "print('Кол-во твитов: ' + str(len(twitter)))"
   ]
  },
  {
   "cell_type": "markdown",
   "metadata": {},
   "source": [
    "### Ищем количество удалённых твитов"
   ]
  },
  {
   "cell_type": "code",
   "execution_count": 4,
   "metadata": {},
   "outputs": [
    {
     "name": "stdout",
     "output_type": "stream",
     "text": [
      "Удалённых твитов 14.162754303599373%.\n"
     ]
    }
   ],
   "source": [
    "del_twit = []\n",
    "for line in twitter:\n",
    "    if 'delete' in line:\n",
    "        del_twit.append(line)\n",
    "print('Удалённых твитов ' + str(len(del_twit)/len(twitter)*100) + '%.')"
   ]
  },
  {
   "cell_type": "markdown",
   "metadata": {},
   "source": [
    "### Ищем 10 самых популярных языков"
   ]
  },
  {
   "cell_type": "code",
   "execution_count": 5,
   "metadata": {},
   "outputs": [
    {
     "name": "stdout",
     "output_type": "stream",
     "text": [
      "10 самых популярных языков: \n",
      "en - 719\n",
      "ja - 438\n",
      "es - 173\n",
      "ko - 149\n",
      "th - 123\n",
      "ar - 119\n",
      "und - 117\n",
      "in - 71\n",
      "pt - 69\n",
      "fr - 35\n"
     ]
    }
   ],
   "source": [
    "import collections\n",
    "lang_twit = []\n",
    "for line in twitter:\n",
    "    if 'lang' in line:\n",
    "        lang_twit.append(line['lang'])\n",
    "counter = collections.Counter(lang_twit)\n",
    "print('10 самых популярных языков: ')\n",
    "i = 0\n",
    "for lang in counter.most_common():\n",
    "    print(lang[0] + ' - ' + str(lang[1]))\n",
    "    i += 1\n",
    "    if i > 9:\n",
    "        break"
   ]
  },
  {
   "cell_type": "markdown",
   "metadata": {},
   "source": [
    "### Ищем количество пользователей с количеством твитов > 1"
   ]
  },
  {
   "cell_type": "code",
   "execution_count": 6,
   "metadata": {},
   "outputs": [
    {
     "name": "stdout",
     "output_type": "stream",
     "text": [
      "Пользователей, у которых больше одного твита 30.\n"
     ]
    }
   ],
   "source": [
    "user_twit = []\n",
    "for line in twitter:\n",
    "    if 'user' in line:\n",
    "        user_twit.append(line['user']['name'])\n",
    "counter = collections.Counter(user_twit)\n",
    "act_user_twit = []\n",
    "for user in counter:\n",
    "    if counter[user] > 1:\n",
    "        act_user_twit.append(user)\n",
    "kolvo_act_user = str(len(act_user_twit))\n",
    "print('Пользователей, у которых больше одного твита ' + kolvo_act_user + '.')"
   ]
  },
  {
   "cell_type": "markdown",
   "metadata": {},
   "source": [
    "### Ищем 20 самых популярных хештегов"
   ]
  },
  {
   "cell_type": "code",
   "execution_count": 7,
   "metadata": {},
   "outputs": [
    {
     "name": "stdout",
     "output_type": "stream",
     "text": [
      "20 самых популярных хештегов: \n",
      "BTS - 17\n",
      "방탄소년단 - 13\n",
      "AMAs - 11\n",
      "人気投票ガチャ - 8\n",
      "태형 - 7\n",
      "뷔 - 6\n",
      "BTSinChicago - 5\n",
      "BTSLoveYourselfTour - 5\n",
      "오늘의방탄 - 5\n",
      "PledgeForSwachhBharat - 5\n",
      "MPN - 5\n",
      "PCAs - 4\n",
      "V - 4\n",
      "시카고1회차공연 - 4\n",
      "เป๊กผลิตโชค - 4\n",
      "JIMIN - 4\n",
      "running - 3\n",
      "NCT - 3\n",
      "지민 - 3\n",
      "WajahmuPlastik - 3\n"
     ]
    }
   ],
   "source": [
    "hashtag_twit = []\n",
    "for line in twitter:\n",
    "    if 'entities' in line:\n",
    "        if 'hashtags' in line['entities']:\n",
    "            for diction in line['entities']['hashtags']:\n",
    "                hashtag_twit.append(diction['text'])\n",
    "counter = collections.Counter(hashtag_twit)\n",
    "print('20 самых популярных хештегов: ')\n",
    "i = 0\n",
    "for hashtag in counter.most_common():\n",
    "    print(hashtag[0] + ' - ' + str(hashtag[1]))\n",
    "    i += 1\n",
    "    if i > 19:\n",
    "        break"
   ]
  },
  {
   "cell_type": "markdown",
   "metadata": {},
   "source": [
    "### Создаём частотный словарь"
   ]
  },
  {
   "cell_type": "code",
   "execution_count": 8,
   "metadata": {},
   "outputs": [
    {
     "name": "stdout",
     "output_type": "stream",
     "text": [
      "20 самых популярных слов: \n",
      "the - 126 вхождений.\n",
      "to - 86 вхождений.\n",
      "a - 78 вхождений.\n",
      "i - 73 вхождений.\n",
      "and - 65 вхождений.\n",
      "is - 51 вхождений.\n",
      "you - 48 вхождений.\n",
      "of - 46 вхождений.\n",
      "for - 42 вхождений.\n",
      "it - 42 вхождений.\n",
      "in - 38 вхождений.\n",
      "that - 33 вхождений.\n",
      "this - 32 вхождений.\n",
      "my - 30 вхождений.\n",
      "me - 28 вхождений.\n",
      "be - 26 вхождений.\n",
      "on - 26 вхождений.\n",
      "are - 21 вхождений.\n",
      "what - 20 вхождений.\n",
      "so - 20 вхождений.\n"
     ]
    }
   ],
   "source": [
    "trash_symbols = '''!\"#$%&\\'-()*+,./:;<=>?@[\\\\]\n",
    "                ^_`{|}~«»—1234567890…😂😭✔👠😊\n",
    "                😄🤗😀😉🙂😅🙄🤷🤨❤️💋🙏😳💃\n",
    "                👍✌️🤦🏽 🏽🤔😇😢😈🏆🎃👻🔪😍😘\n",
    "                🎶💜💙🧐🌅🤓😆😕🐙💀'''      # Не считаю смайлики словами.\n",
    "# Да, в идеале, надо было сюда добавить все смайилики.\n",
    "all_words = []\n",
    "for line in twitter:\n",
    "    if 'retweeted_status' not in line:\n",
    "        if 'lang' in line:\n",
    "            if line['lang'] == 'en':\n",
    "                list_of_words = line['text'].lower().split()\n",
    "                for word in list_of_words:\n",
    "                    clear_word = word.strip(trash_symbols)\n",
    "                    if clear_word != '':\n",
    "                        all_words.append(clear_word)\n",
    "counter = collections.Counter(all_words)\n",
    "print('20 самых популярных слов: ')\n",
    "i = 0\n",
    "for word, freq in counter.most_common():\n",
    "    print(word + ' - ' + str(freq) + ' вхождений.')\n",
    "    i += 1\n",
    "    if i > 19:\n",
    "        break"
   ]
  },
  {
   "cell_type": "markdown",
   "metadata": {},
   "source": [
    "### Ищем 10 самых популярных авторов"
   ]
  },
  {
   "cell_type": "code",
   "execution_count": 9,
   "metadata": {},
   "outputs": [
    {
     "name": "stdout",
     "output_type": "stream",
     "text": [
      "10 самых популярных авторов: \n",
      "Filosofía♕ - 2521403 подписчиков.\n",
      "FITNESS Magazine - 1491309 подписчиков.\n",
      "malaysiakini.com - 1206759 подписчиков.\n",
      "NYT Science - 1137374 подписчиков.\n",
      "Gramática - 625463 подписчиков.\n",
      "TGRT Haber - 392472 подписчиков.\n",
      "The Sun Football ⚽ - 383698 подписчиков.\n",
      "Melbourne, Australia - 374222 подписчиков.\n",
      "Roznama Express - 318189 подписчиков.\n",
      "💞 ცųཞɠɛཞცơơɠıɛ 💞 - 311319 подписчиков.\n"
     ]
    }
   ],
   "source": [
    "author_followers = collections.Counter()\n",
    "for line in twitter:\n",
    "    if 'user' in line:\n",
    "        if 'followers_count' in line['user']:\n",
    "            numb_of_f = line['user']['followers_count']\n",
    "            author_followers[line['user']['name']] = numb_of_f\n",
    "print('10 самых популярных авторов: ')\n",
    "i = 0\n",
    "for author, followers in author_followers.most_common():\n",
    "    print(author + ' - ' + str(followers) + ' подписчиков.')\n",
    "    i += 1\n",
    "    if i > 9:\n",
    "        break"
   ]
  },
  {
   "cell_type": "markdown",
   "metadata": {},
   "source": [
    "### Ищем 10 самых популярных приложений"
   ]
  },
  {
   "cell_type": "code",
   "execution_count": 10,
   "metadata": {},
   "outputs": [
    {
     "name": "stdout",
     "output_type": "stream",
     "text": [
      "10 самых популярных приложений: \n",
      "Twitter for iPhone - 800 пользователей.\n",
      "Twitter for Android - 695 пользователей.\n",
      "Twitter Web Client - 140 пользователей.\n",
      "twittbot.net - 122 пользователей.\n",
      "Twitter Lite - 51 пользователей.\n",
      "Twitter for iPad - 28 пользователей.\n",
      "TweetDeck - 23 пользователей.\n",
      "Facebook - 17 пользователей.\n",
      "IFTTT - 14 пользователей.\n",
      "تطبيق قرآني - 10 пользователей.\n"
     ]
    }
   ],
   "source": [
    "import re\n",
    "apps_twit = []\n",
    "for line in twitter:\n",
    "    if 'source' in line:\n",
    "        apps_twit.append(line['source'])\n",
    "counter = collections.Counter(apps_twit)\n",
    "print('10 самых популярных приложений: ')\n",
    "i = 0\n",
    "for app in counter.most_common():\n",
    "    app_name = re.search('<a href=.*?>(.*?)</a>', app[0])\n",
    "    if app_name:\n",
    "        print(app_name.group(1) + ' - ' + str(app[1]) + ' пользователей.')\n",
    "    i += 1\n",
    "    if i > 9:\n",
    "        break"
   ]
  }
 ],
 "metadata": {
  "kernelspec": {
   "display_name": "Python 3",
   "language": "python",
   "name": "python3"
  },
  "language_info": {
   "codemirror_mode": {
    "name": "ipython",
    "version": 3
   },
   "file_extension": ".py",
   "mimetype": "text/x-python",
   "name": "python",
   "nbconvert_exporter": "python",
   "pygments_lexer": "ipython3",
   "version": "3.7.3"
  }
 },
 "nbformat": 4,
 "nbformat_minor": 2
}
